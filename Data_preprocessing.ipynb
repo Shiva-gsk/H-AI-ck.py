{
 "cells": [
  {
   "cell_type": "code",
   "execution_count": 8,
   "metadata": {},
   "outputs": [],
   "source": [
    "from PyPDF2 import PdfReader\n",
    "import re\n",
    "\n",
    "# Function to extract text from a PDF file\n",
    "def read_pdf(file_path):\n",
    "    reader = PdfReader(file_path)  # Open the PDF file\n",
    "    text = \"\"\n",
    "    \n",
    "    # Loop through all the pages and extract text\n",
    "    for page_num in range(len(reader.pages)):\n",
    "        page = reader.pages[page_num]\n",
    "        text += page.extract_text()\n",
    "        \n",
    "    return text\n",
    "\n",
    "# Function to clean the extracted text\n",
    "def clean_text(text):\n",
    "    # Remove extra spaces and newlines\n",
    "    cleaned_text = re.sub(r'\\s+', ' ', text)\n",
    "    \n",
    "    # Remove URLs or links (any string that starts with http, https, or www)\n",
    "    cleaned_text = re.sub(r'http[s]?://\\S+|www\\.\\S+', '', cleaned_text)\n",
    "    \n",
    "    # Remove email addresses (example: example@example.com)\n",
    "    cleaned_text = re.sub(r'\\S+@\\S+', '', cleaned_text)\n",
    "    \n",
    "    # Remove unwanted characters (e.g., non-alphanumeric characters, punctuation, etc.)\n",
    "    cleaned_text = re.sub(r'[^a-zA-Z0-9\\s]', '', cleaned_text)\n",
    "    \n",
    "    # Optional: Remove leading and trailing spaces\n",
    "    cleaned_text = cleaned_text.strip()\n",
    "    \n",
    "    return cleaned_text\n",
    "\n",
    "# Main function to process PDF\n",
    "def process_pdf(file_path):\n",
    "    # Step 1: Read the PDF\n",
    "    raw_text = read_pdf(file_path)\n",
    "    \n",
    "    # Step 2: Clean the extracted text\n",
    "    cleaned_text = clean_text(raw_text)\n",
    "    \n",
    "    return cleaned_text\n",
    "\n",
    "# Example usage\n",
    "for i in range(1, 4):\n",
    "    file_path = f\"textbook{i}.pdf\"  # Replace with your PDF file path\n",
    "    cleaned_data = process_pdf(file_path)\n",
    "\n",
    "    # Print cleaned text (for verification)\n",
    "    # print(cleaned_data)\n",
    "    with open(f\"documents/textbook{i}.txt\", 'w', encoding='utf-8') as file:\n",
    "        file.write(cleaned_data)\n"
   ]
  },
  {
   "cell_type": "code",
   "execution_count": null,
   "metadata": {},
   "outputs": [],
   "source": []
  }
 ],
 "metadata": {
  "kernelspec": {
   "display_name": "Python 3",
   "language": "python",
   "name": "python3"
  },
  "language_info": {
   "codemirror_mode": {
    "name": "ipython",
    "version": 3
   },
   "file_extension": ".py",
   "mimetype": "text/x-python",
   "name": "python",
   "nbconvert_exporter": "python",
   "pygments_lexer": "ipython3",
   "version": "3.11.9"
  }
 },
 "nbformat": 4,
 "nbformat_minor": 2
}
